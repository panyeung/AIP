{
 "cells": [
  {
   "cell_type": "code",
   "execution_count": 2,
   "metadata": {},
   "outputs": [],
   "source": [
    "from tabula import read_pdf\n",
    "import pandas as pd\n",
    "import matplotlib.pyplot as plt\n",
    "import numpy as np\n",
    "\n",
    "import seaborn as sns\n"
   ]
  },
  {
   "cell_type": "markdown",
   "metadata": {},
   "source": [
    "# SmartCity Group 4 Notebook\n",
    "Authors: Catherine Hou, Pan Yeung, Clemente Guasch"
   ]
  },
  {
   "cell_type": "markdown",
   "metadata": {},
   "source": [
    "## Introduction\n",
    "**Data:** [Data Surfer SANDAG](http://datasurfer.sandag.org/dataoverview)\n",
    "\n",
    "**Research Question:**\n",
    "Why do people commute to work via a car rather than using public transportation, and how can we encourage people to use buses?"
   ]
  },
  {
   "cell_type": "code",
   "execution_count": 3,
   "metadata": {},
   "outputs": [],
   "source": [
    "# Dataframe for the incomes of all cities by zipcode\n",
    "income = pd.read_excel('AllCity.xlsx', sheet_name='Household Income')"
   ]
  },
  {
   "cell_type": "code",
   "execution_count": null,
   "metadata": {},
   "outputs": [],
   "source": []
  },
  {
   "cell_type": "markdown",
   "metadata": {},
   "source": [
    "## Exploratory Data Analysis"
   ]
  },
  {
   "cell_type": "markdown",
   "metadata": {},
   "source": [
    "### City Height vs. Random High Income City"
   ]
  },
  {
   "cell_type": "code",
   "execution_count": 4,
   "metadata": {},
   "outputs": [
    {
     "data": {
      "text/html": [
       "<div>\n",
       "<style scoped>\n",
       "    .dataframe tbody tr th:only-of-type {\n",
       "        vertical-align: middle;\n",
       "    }\n",
       "\n",
       "    .dataframe tbody tr th {\n",
       "        vertical-align: top;\n",
       "    }\n",
       "\n",
       "    .dataframe thead th {\n",
       "        text-align: right;\n",
       "    }\n",
       "</style>\n",
       "<table border=\"1\" class=\"dataframe\">\n",
       "  <thead>\n",
       "    <tr style=\"text-align: right;\">\n",
       "      <th>INCOME</th>\n",
       "      <th>$100,000 to $124,999</th>\n",
       "      <th>$125,000 to $149,999</th>\n",
       "      <th>$15,000 to $29,999</th>\n",
       "      <th>$150,000 to $199,999</th>\n",
       "      <th>$200,000 or more</th>\n",
       "      <th>$30,000 to $44,999</th>\n",
       "      <th>$45,000 to $59,999</th>\n",
       "      <th>$60,000 to $74,999</th>\n",
       "      <th>$75,000 to $99,999</th>\n",
       "      <th>Less than $15,000</th>\n",
       "      <th>median income</th>\n",
       "    </tr>\n",
       "    <tr>\n",
       "      <th>Zip</th>\n",
       "      <th></th>\n",
       "      <th></th>\n",
       "      <th></th>\n",
       "      <th></th>\n",
       "      <th></th>\n",
       "      <th></th>\n",
       "      <th></th>\n",
       "      <th></th>\n",
       "      <th></th>\n",
       "      <th></th>\n",
       "      <th></th>\n",
       "    </tr>\n",
       "  </thead>\n",
       "  <tbody>\n",
       "    <tr>\n",
       "      <th>91901</th>\n",
       "      <td>636.0</td>\n",
       "      <td>427.0</td>\n",
       "      <td>723.0</td>\n",
       "      <td>843.0</td>\n",
       "      <td>548.0</td>\n",
       "      <td>701.0</td>\n",
       "      <td>569.0</td>\n",
       "      <td>560.0</td>\n",
       "      <td>839.0</td>\n",
       "      <td>370.0</td>\n",
       "      <td>80513.0</td>\n",
       "    </tr>\n",
       "    <tr>\n",
       "      <th>91902</th>\n",
       "      <td>712.0</td>\n",
       "      <td>306.0</td>\n",
       "      <td>482.0</td>\n",
       "      <td>457.0</td>\n",
       "      <td>494.0</td>\n",
       "      <td>498.0</td>\n",
       "      <td>870.0</td>\n",
       "      <td>754.0</td>\n",
       "      <td>930.0</td>\n",
       "      <td>215.0</td>\n",
       "      <td>76075.0</td>\n",
       "    </tr>\n",
       "    <tr>\n",
       "      <th>91905</th>\n",
       "      <td>52.0</td>\n",
       "      <td>25.0</td>\n",
       "      <td>77.0</td>\n",
       "      <td>14.0</td>\n",
       "      <td>7.0</td>\n",
       "      <td>83.0</td>\n",
       "      <td>105.0</td>\n",
       "      <td>48.0</td>\n",
       "      <td>108.0</td>\n",
       "      <td>81.0</td>\n",
       "      <td>53429.0</td>\n",
       "    </tr>\n",
       "    <tr>\n",
       "      <th>91906</th>\n",
       "      <td>126.0</td>\n",
       "      <td>58.0</td>\n",
       "      <td>177.0</td>\n",
       "      <td>41.0</td>\n",
       "      <td>22.0</td>\n",
       "      <td>188.0</td>\n",
       "      <td>213.0</td>\n",
       "      <td>106.0</td>\n",
       "      <td>230.0</td>\n",
       "      <td>186.0</td>\n",
       "      <td>53627.0</td>\n",
       "    </tr>\n",
       "    <tr>\n",
       "      <th>91910</th>\n",
       "      <td>2092.0</td>\n",
       "      <td>1355.0</td>\n",
       "      <td>3808.0</td>\n",
       "      <td>1376.0</td>\n",
       "      <td>737.0</td>\n",
       "      <td>4125.0</td>\n",
       "      <td>3393.0</td>\n",
       "      <td>2858.0</td>\n",
       "      <td>3376.0</td>\n",
       "      <td>3052.0</td>\n",
       "      <td>54288.0</td>\n",
       "    </tr>\n",
       "  </tbody>\n",
       "</table>\n",
       "</div>"
      ],
      "text/plain": [
       "INCOME  $100,000 to $124,999  $125,000 to $149,999  $15,000 to $29,999  \\\n",
       "Zip                                                                      \n",
       "91901                  636.0                 427.0               723.0   \n",
       "91902                  712.0                 306.0               482.0   \n",
       "91905                   52.0                  25.0                77.0   \n",
       "91906                  126.0                  58.0               177.0   \n",
       "91910                 2092.0                1355.0              3808.0   \n",
       "\n",
       "INCOME  $150,000 to $199,999  $200,000 or more  $30,000 to $44,999  \\\n",
       "Zip                                                                  \n",
       "91901                  843.0             548.0               701.0   \n",
       "91902                  457.0             494.0               498.0   \n",
       "91905                   14.0               7.0                83.0   \n",
       "91906                   41.0              22.0               188.0   \n",
       "91910                 1376.0             737.0              4125.0   \n",
       "\n",
       "INCOME  $45,000 to $59,999  $60,000 to $74,999  $75,000 to $99,999  \\\n",
       "Zip                                                                  \n",
       "91901                569.0               560.0               839.0   \n",
       "91902                870.0               754.0               930.0   \n",
       "91905                105.0                48.0               108.0   \n",
       "91906                213.0               106.0               230.0   \n",
       "91910               3393.0              2858.0              3376.0   \n",
       "\n",
       "INCOME  Less than $15,000  median income  \n",
       "Zip                                       \n",
       "91901               370.0        80513.0  \n",
       "91902               215.0        76075.0  \n",
       "91905                81.0        53429.0  \n",
       "91906               186.0        53627.0  \n",
       "91910              3052.0        54288.0  "
      ]
     },
     "execution_count": 4,
     "metadata": {},
     "output_type": "execute_result"
    }
   ],
   "source": [
    "# Pivot table\n",
    "income.pivot_table(index=\"Zip\", columns=\"INCOME\", values=\"NUMBER\", aggfunc=\"sum\").head()"
   ]
  },
  {
   "cell_type": "code",
   "execution_count": 5,
   "metadata": {},
   "outputs": [
    {
     "data": {
      "text/plain": [
       "<matplotlib.axes._subplots.AxesSubplot at 0x1a16a72630>"
      ]
     },
     "execution_count": 5,
     "metadata": {},
     "output_type": "execute_result"
    },
    {
     "data": {
      "image/png": "[encoded data removed]",
      "text/plain": [
       "<Figure size 432x288 with 1 Axes>"
      ]
     },
     "metadata": {
      "needs_background": "light"
     },
     "output_type": "display_data"
    }
   ],
   "source": [
    "cityheight_type = pd.read_excel('cityHeight.xlsx', sheet_name='Transportation to Work')\n",
    "cityheight_type[\"NUMBER\"] = cityheight_type[\"NUMBER\"].astype(float)\n",
    "cityheight_type = cityheight_type.set_index(\"MEANS OF TRANSPORTATION\")\n",
    "cityheight_type[\"NUMBER\"].apply(lambda x: x/cityheight_type[\"NUMBER\"].sum()).plot(kind=\"barh\")"
   ]
  },
  {
   "cell_type": "code",
   "execution_count": 6,
   "metadata": {},
   "outputs": [],
   "source": [
    "median_income = income.loc[income[\"INCOME\"]==\"median income\"].reset_index(drop=True)#.sort_values(by=\"NUMBER\", ascending=False)"
   ]
  },
  {
   "cell_type": "code",
   "execution_count": 7,
   "metadata": {},
   "outputs": [],
   "source": [
    "high_income = (median_income.loc[median_income[\"NUMBER\"] > 67516])"
   ]
  },
  {
   "cell_type": "code",
   "execution_count": 8,
   "metadata": {},
   "outputs": [
    {
     "data": {
      "text/html": [
       "<div>\n",
       "<style scoped>\n",
       "    .dataframe tbody tr th:only-of-type {\n",
       "        vertical-align: middle;\n",
       "    }\n",
       "\n",
       "    .dataframe tbody tr th {\n",
       "        vertical-align: top;\n",
       "    }\n",
       "\n",
       "    .dataframe thead th {\n",
       "        text-align: right;\n",
       "    }\n",
       "</style>\n",
       "<table border=\"1\" class=\"dataframe\">\n",
       "  <thead>\n",
       "    <tr style=\"text-align: right;\">\n",
       "      <th></th>\n",
       "      <th>Zip</th>\n",
       "      <th>YEAR</th>\n",
       "      <th>INCOME</th>\n",
       "      <th>NUMBER</th>\n",
       "    </tr>\n",
       "  </thead>\n",
       "  <tbody>\n",
       "    <tr>\n",
       "      <th>67</th>\n",
       "      <td>92091</td>\n",
       "      <td>2010</td>\n",
       "      <td>median income</td>\n",
       "      <td>126907</td>\n",
       "    </tr>\n",
       "  </tbody>\n",
       "</table>\n",
       "</div>"
      ],
      "text/plain": [
       "      Zip  YEAR         INCOME  NUMBER\n",
       "67  92091  2010  median income  126907"
      ]
     },
     "execution_count": 8,
     "metadata": {},
     "output_type": "execute_result"
    }
   ],
   "source": [
    "high_income.sample(1)"
   ]
  },
  {
   "cell_type": "code",
   "execution_count": 9,
   "metadata": {},
   "outputs": [],
   "source": [
    "city_height = pd.read_excel('cityHeight.xlsx', sheet_name='Travel Time to Work')[:-1]\n",
    "city_height[\"NUMBER\"] = city_height[\"NUMBER\"].astype(float)\n",
    "city_height=city_height.assign(prop=city_height[\"NUMBER\"].apply(lambda x: x/city_height[\"NUMBER\"].sum()))"
   ]
  },
  {
   "cell_type": "code",
   "execution_count": 10,
   "metadata": {},
   "outputs": [],
   "source": [
    "travel_time = pd.read_excel('AllCity.xlsx', sheet_name='Travel Time to Work')"
   ]
  },
  {
   "cell_type": "code",
   "execution_count": 11,
   "metadata": {},
   "outputs": [],
   "source": [
    "high_income_travel_time = travel_time.loc[travel_time[\"Zip\"] == 92091][:-1]\n",
    "high_income_travel_time[\"NUMBER\"] = high_income_travel_time[\"NUMBER\"].astype(float)\n",
    "high_income_travel_time=high_income_travel_time.assign(prop=high_income_travel_time[\"NUMBER\"].apply(lambda x: x/high_income_travel_time[\"NUMBER\"].sum()))"
   ]
  },
  {
   "cell_type": "code",
   "execution_count": 12,
   "metadata": {},
   "outputs": [
    {
     "data": {
      "text/html": [
       "<div>\n",
       "<style scoped>\n",
       "    .dataframe tbody tr th:only-of-type {\n",
       "        vertical-align: middle;\n",
       "    }\n",
       "\n",
       "    .dataframe tbody tr th {\n",
       "        vertical-align: top;\n",
       "    }\n",
       "\n",
       "    .dataframe thead th {\n",
       "        text-align: right;\n",
       "    }\n",
       "</style>\n",
       "<table border=\"1\" class=\"dataframe\">\n",
       "  <thead>\n",
       "    <tr style=\"text-align: right;\">\n",
       "      <th></th>\n",
       "      <th>Zip_cityheight</th>\n",
       "      <th>YEAR_cityheight</th>\n",
       "      <th>NUMBER_cityheight</th>\n",
       "      <th>prop_cityheight</th>\n",
       "      <th>Zip_high</th>\n",
       "      <th>YEAR_high</th>\n",
       "      <th>NUMBER_high</th>\n",
       "      <th>prop_high</th>\n",
       "    </tr>\n",
       "    <tr>\n",
       "      <th>TRAVEL TIME TO WORK</th>\n",
       "      <th></th>\n",
       "      <th></th>\n",
       "      <th></th>\n",
       "      <th></th>\n",
       "      <th></th>\n",
       "      <th></th>\n",
       "      <th></th>\n",
       "      <th></th>\n",
       "    </tr>\n",
       "  </thead>\n",
       "  <tbody>\n",
       "    <tr>\n",
       "      <th>Did not work at home</th>\n",
       "      <td>92104</td>\n",
       "      <td>2010</td>\n",
       "      <td>24574.0</td>\n",
       "      <td>0.487048</td>\n",
       "      <td>92091</td>\n",
       "      <td>2010</td>\n",
       "      <td>561.0</td>\n",
       "      <td>0.454251</td>\n",
       "    </tr>\n",
       "    <tr>\n",
       "      <th>Less than 10 minutes</th>\n",
       "      <td>92104</td>\n",
       "      <td>2010</td>\n",
       "      <td>2271.0</td>\n",
       "      <td>0.045010</td>\n",
       "      <td>92091</td>\n",
       "      <td>2010</td>\n",
       "      <td>53.0</td>\n",
       "      <td>0.042915</td>\n",
       "    </tr>\n",
       "    <tr>\n",
       "      <th>10 to 19 minutes</th>\n",
       "      <td>92104</td>\n",
       "      <td>2010</td>\n",
       "      <td>9613.0</td>\n",
       "      <td>0.190526</td>\n",
       "      <td>92091</td>\n",
       "      <td>2010</td>\n",
       "      <td>131.0</td>\n",
       "      <td>0.106073</td>\n",
       "    </tr>\n",
       "    <tr>\n",
       "      <th>20 to 29 minutes</th>\n",
       "      <td>92104</td>\n",
       "      <td>2010</td>\n",
       "      <td>6381.0</td>\n",
       "      <td>0.126469</td>\n",
       "      <td>92091</td>\n",
       "      <td>2010</td>\n",
       "      <td>85.0</td>\n",
       "      <td>0.068826</td>\n",
       "    </tr>\n",
       "    <tr>\n",
       "      <th>30 to 44 minutes</th>\n",
       "      <td>92104</td>\n",
       "      <td>2010</td>\n",
       "      <td>4339.0</td>\n",
       "      <td>0.085997</td>\n",
       "      <td>92091</td>\n",
       "      <td>2010</td>\n",
       "      <td>235.0</td>\n",
       "      <td>0.190283</td>\n",
       "    </tr>\n",
       "    <tr>\n",
       "      <th>45 to 59 minutes</th>\n",
       "      <td>92104</td>\n",
       "      <td>2010</td>\n",
       "      <td>871.0</td>\n",
       "      <td>0.017263</td>\n",
       "      <td>92091</td>\n",
       "      <td>2010</td>\n",
       "      <td>21.0</td>\n",
       "      <td>0.017004</td>\n",
       "    </tr>\n",
       "    <tr>\n",
       "      <th>60 to 89 minutes</th>\n",
       "      <td>92104</td>\n",
       "      <td>2010</td>\n",
       "      <td>757.0</td>\n",
       "      <td>0.015003</td>\n",
       "      <td>92091</td>\n",
       "      <td>2010</td>\n",
       "      <td>27.0</td>\n",
       "      <td>0.021862</td>\n",
       "    </tr>\n",
       "    <tr>\n",
       "      <th>90 minutes or more</th>\n",
       "      <td>92104</td>\n",
       "      <td>2010</td>\n",
       "      <td>342.0</td>\n",
       "      <td>0.006778</td>\n",
       "      <td>92091</td>\n",
       "      <td>2010</td>\n",
       "      <td>9.0</td>\n",
       "      <td>0.007287</td>\n",
       "    </tr>\n",
       "    <tr>\n",
       "      <th>Worked at home</th>\n",
       "      <td>92104</td>\n",
       "      <td>2010</td>\n",
       "      <td>1307.0</td>\n",
       "      <td>0.025904</td>\n",
       "      <td>92091</td>\n",
       "      <td>2010</td>\n",
       "      <td>113.0</td>\n",
       "      <td>0.091498</td>\n",
       "    </tr>\n",
       "  </tbody>\n",
       "</table>\n",
       "</div>"
      ],
      "text/plain": [
       "                      Zip_cityheight  YEAR_cityheight  NUMBER_cityheight  \\\n",
       "TRAVEL TIME TO WORK                                                        \n",
       "Did not work at home           92104             2010            24574.0   \n",
       "Less than 10 minutes           92104             2010             2271.0   \n",
       "10 to 19 minutes               92104             2010             9613.0   \n",
       "20 to 29 minutes               92104             2010             6381.0   \n",
       "30 to 44 minutes               92104             2010             4339.0   \n",
       "45 to 59 minutes               92104             2010              871.0   \n",
       "60 to 89 minutes               92104             2010              757.0   \n",
       "90 minutes or more             92104             2010              342.0   \n",
       "Worked at home                 92104             2010             1307.0   \n",
       "\n",
       "                      prop_cityheight  Zip_high  YEAR_high  NUMBER_high  \\\n",
       "TRAVEL TIME TO WORK                                                       \n",
       "Did not work at home         0.487048     92091       2010        561.0   \n",
       "Less than 10 minutes         0.045010     92091       2010         53.0   \n",
       "10 to 19 minutes             0.190526     92091       2010        131.0   \n",
       "20 to 29 minutes             0.126469     92091       2010         85.0   \n",
       "30 to 44 minutes             0.085997     92091       2010        235.0   \n",
       "45 to 59 minutes             0.017263     92091       2010         21.0   \n",
       "60 to 89 minutes             0.015003     92091       2010         27.0   \n",
       "90 minutes or more           0.006778     92091       2010          9.0   \n",
       "Worked at home               0.025904     92091       2010        113.0   \n",
       "\n",
       "                      prop_high  \n",
       "TRAVEL TIME TO WORK              \n",
       "Did not work at home   0.454251  \n",
       "Less than 10 minutes   0.042915  \n",
       "10 to 19 minutes       0.106073  \n",
       "20 to 29 minutes       0.068826  \n",
       "30 to 44 minutes       0.190283  \n",
       "45 to 59 minutes       0.017004  \n",
       "60 to 89 minutes       0.021862  \n",
       "90 minutes or more     0.007287  \n",
       "Worked at home         0.091498  "
      ]
     },
     "execution_count": 12,
     "metadata": {},
     "output_type": "execute_result"
    }
   ],
   "source": [
    "merged_data = pd.merge(city_height, high_income_travel_time, on=\"TRAVEL TIME TO WORK\", suffixes=[\"_cityheight\", \"_high\"])\n",
    "merged_data = merged_data.set_index('TRAVEL TIME TO WORK')\n",
    "merged_data"
   ]
  },
  {
   "cell_type": "code",
   "execution_count": 13,
   "metadata": {},
   "outputs": [
    {
     "data": {
      "image/png": "[encoded data removed]",
      "text/plain": [
       "<Figure size 432x288 with 1 Axes>"
      ]
     },
     "metadata": {
      "needs_background": "light"
     },
     "output_type": "display_data"
    }
   ],
   "source": [
    "merged_data[['prop_high', 'prop_cityheight']].plot(kind='barh');\n"
   ]
  },
  {
   "cell_type": "markdown",
   "metadata": {},
   "source": [
    "### Hypothesis Test\n",
    "Computing a Hypothesis Test to see whether the distributions of high income cities and city heights are similar for travel time to work.\n",
    "\n",
    "**Question:** Is the distribution of targetted regions with high spend the same as the distribution of targetted regions in general?\n",
    "\n",
    "**Null Hypothesis:** The distribution of targetted regions is the same for ones with high spend and in general.\n",
    "\n",
    "**Alternative Hypothesis:** The distribution of targetted regions is different for ones with high spend and in general.\n",
    "\n",
    "**Test Statistic:** Total Variation Distance. Because we are seeing if two distributions are different we calculate the tvd to quantify the distance between two categorical distributions.\n",
    "\n",
    "**Significance Level:** 0.05"
   ]
  },
  {
   "cell_type": "code",
   "execution_count": 14,
   "metadata": {},
   "outputs": [],
   "source": [
    "def total_variation_distance(dist1, dist2):\n",
    "    '''Given two empirical distributions, \n",
    "    both sorted with same categories, calculates the TVD'''\n",
    "    return np.sum(np.abs(dist1 - dist2)) / 2"
   ]
  },
  {
   "cell_type": "code",
   "execution_count": 15,
   "metadata": {},
   "outputs": [
    {
     "data": {
      "text/plain": [
       "0.1772476937600628"
      ]
     },
     "execution_count": 15,
     "metadata": {},
     "output_type": "execute_result"
    }
   ],
   "source": [
    "# Calculate observed statistic using TVD\n",
    "observed_tvd = total_variation_distance(merged_data['prop_high'], merged_data['prop_cityheight'])\n",
    "observed_tvd"
   ]
  },
  {
   "cell_type": "code",
   "execution_count": 16,
   "metadata": {},
   "outputs": [],
   "source": [
    "# Simulate null hypothesis\n",
    "tvds = []\n",
    "\n",
    "for i in np.arange(1000):\n",
    "    draw = (np.random.choice(\n",
    "        merged_data.index, \n",
    "        p=merged_data['prop_high'], \n",
    "        size=len(merged_data)))\n",
    "    rand_panel_props = (pd.Series(draw)\n",
    "                        .value_counts(normalize=True)\n",
    "                        .rename('random_set'))\n",
    "    new_tvd = total_variation_distance(rand_panel_props, merged_data['prop_high'])\n",
    "    tvds.append(new_tvd)"
   ]
  },
  {
   "cell_type": "code",
   "execution_count": 17,
   "metadata": {},
   "outputs": [
    {
     "data": {
      "text/plain": [
       "0.514"
      ]
     },
     "execution_count": 17,
     "metadata": {},
     "output_type": "execute_result"
    }
   ],
   "source": [
    "pval = (np.array(tvds) >= observed_tvd).mean()\n",
    "pval"
   ]
  },
  {
   "cell_type": "code",
   "execution_count": 18,
   "metadata": {},
   "outputs": [
    {
     "data": {
      "image/png": "[encoded data removed]",
      "text/plain": [
       "<Figure size 432x288 with 1 Axes>"
      ]
     },
     "metadata": {
      "needs_background": "light"
     },
     "output_type": "display_data"
    }
   ],
   "source": [
    "# Empirical distribution of tvd under the null hypothesis\n",
    "pd.Series(tvds).hist(bins = 20)\n",
    "plt.scatter(observed_tvd, 0, color='red', s=30);"
   ]
  },
  {
   "cell_type": "markdown",
   "metadata": {},
   "source": [
    "### Results\n",
    "* **p-value:** 0.517\n",
    "\n",
    "* The p-value is greater than the significance level 0.05. This means that we cannot reject the null hypothesis.\n",
    "\n"
   ]
  },
  {
   "cell_type": "markdown",
   "metadata": {},
   "source": [
    "### Distributions between LMI and HI"
   ]
  },
  {
   "cell_type": "code",
   "execution_count": 19,
   "metadata": {},
   "outputs": [
    {
     "data": {
      "text/plain": [
       "1"
      ]
     },
     "execution_count": 19,
     "metadata": {},
     "output_type": "execute_result"
    }
   ],
   "source": [
    "cityheight_type['Zip'].nunique()"
   ]
  },
  {
   "cell_type": "markdown",
   "metadata": {},
   "source": [
    "### Website defining LMI Communities\n",
    "https://www.sandiego.gov/housing/resources/whatis\n",
    ">  low- to moderate-income households (persons earning up to 120 percent of area median income)\n",
    "\n",
    "The San Diego salary median we found is $67516.\n",
    "\n",
    "After talking to Natasha, perhaps a more appropriate median is $40,000 for LMI."
   ]
  },
  {
   "cell_type": "markdown",
   "metadata": {},
   "source": [
    "#### Binning into LMI and HI"
   ]
  },
  {
   "cell_type": "code",
   "execution_count": 30,
   "metadata": {},
   "outputs": [],
   "source": [
    "# dataframe the holds zipcodes categorized under lmi\n",
    "lmi = (median_income.loc[median_income[\"NUMBER\"] <= 50000])"
   ]
  },
  {
   "cell_type": "code",
   "execution_count": 34,
   "metadata": {},
   "outputs": [],
   "source": [
    "# dataframe the holds zipcodes categorized under hi\n",
    "hi = (median_income.loc[median_income[\"NUMBER\"] > 50000])"
   ]
  },
  {
   "cell_type": "markdown",
   "metadata": {},
   "source": [
    "There are 84 zip codes categorized under LMI and 24 categorized under HI. A big difference!"
   ]
  },
  {
   "cell_type": "code",
   "execution_count": 35,
   "metadata": {},
   "outputs": [
    {
     "data": {
      "text/plain": [
       "21"
      ]
     },
     "execution_count": 35,
     "metadata": {},
     "output_type": "execute_result"
    }
   ],
   "source": [
    "lmi_zip=lmi['Zip'].unique()\n",
    "len(lmi_zip)"
   ]
  },
  {
   "cell_type": "code",
   "execution_count": 36,
   "metadata": {},
   "outputs": [
    {
     "data": {
      "text/plain": [
       "87"
      ]
     },
     "execution_count": 36,
     "metadata": {},
     "output_type": "execute_result"
    }
   ],
   "source": [
    "hi_zip=hi['Zip'].unique()\n",
    "len(hi_zip)"
   ]
  },
  {
   "cell_type": "code",
   "execution_count": 38,
   "metadata": {},
   "outputs": [
    {
     "data": {
      "text/plain": [
       "array([91932, 91942, 91950, 91980, 92004, 92020, 92025, 92055, 92060,\n",
       "       92066, 92086, 92101, 92102, 92104, 92105, 92113, 92115, 92116,\n",
       "       92173, 92536, 92672])"
      ]
     },
     "execution_count": 38,
     "metadata": {},
     "output_type": "execute_result"
    }
   ],
   "source": [
    "lmi_zip # all the zipcodes under lmi"
   ]
  },
  {
   "cell_type": "markdown",
   "metadata": {},
   "source": [
    "#### Clean, Clean, Clean"
   ]
  },
  {
   "cell_type": "code",
   "execution_count": 39,
   "metadata": {},
   "outputs": [
    {
     "data": {
      "text/html": [
       "<div>\n",
       "<style scoped>\n",
       "    .dataframe tbody tr th:only-of-type {\n",
       "        vertical-align: middle;\n",
       "    }\n",
       "\n",
       "    .dataframe tbody tr th {\n",
       "        vertical-align: top;\n",
       "    }\n",
       "\n",
       "    .dataframe thead th {\n",
       "        text-align: right;\n",
       "    }\n",
       "</style>\n",
       "<table border=\"1\" class=\"dataframe\">\n",
       "  <thead>\n",
       "    <tr style=\"text-align: right;\">\n",
       "      <th></th>\n",
       "      <th>Zip</th>\n",
       "      <th>YEAR</th>\n",
       "      <th>TRAVEL TIME TO WORK</th>\n",
       "      <th>NUMBER</th>\n",
       "    </tr>\n",
       "  </thead>\n",
       "  <tbody>\n",
       "    <tr>\n",
       "      <th>108</th>\n",
       "      <td>91932</td>\n",
       "      <td>2010</td>\n",
       "      <td>Did not work at home</td>\n",
       "      <td>11622</td>\n",
       "    </tr>\n",
       "    <tr>\n",
       "      <th>109</th>\n",
       "      <td>91932</td>\n",
       "      <td>2010</td>\n",
       "      <td>Less than 10 minutes</td>\n",
       "      <td>1061</td>\n",
       "    </tr>\n",
       "    <tr>\n",
       "      <th>110</th>\n",
       "      <td>91932</td>\n",
       "      <td>2010</td>\n",
       "      <td>10 to 19 minutes</td>\n",
       "      <td>3348</td>\n",
       "    </tr>\n",
       "    <tr>\n",
       "      <th>111</th>\n",
       "      <td>91932</td>\n",
       "      <td>2010</td>\n",
       "      <td>20 to 29 minutes</td>\n",
       "      <td>2715</td>\n",
       "    </tr>\n",
       "    <tr>\n",
       "      <th>112</th>\n",
       "      <td>91932</td>\n",
       "      <td>2010</td>\n",
       "      <td>30 to 44 minutes</td>\n",
       "      <td>3105</td>\n",
       "    </tr>\n",
       "  </tbody>\n",
       "</table>\n",
       "</div>"
      ],
      "text/plain": [
       "       Zip  YEAR   TRAVEL TIME TO WORK NUMBER\n",
       "108  91932  2010  Did not work at home  11622\n",
       "109  91932  2010  Less than 10 minutes   1061\n",
       "110  91932  2010      10 to 19 minutes   3348\n",
       "111  91932  2010      20 to 29 minutes   2715\n",
       "112  91932  2010      30 to 44 minutes   3105"
      ]
     },
     "execution_count": 39,
     "metadata": {},
     "output_type": "execute_result"
    }
   ],
   "source": [
    "travel_time_lmi=travel_time.loc[travel_time[['Zip']].isin(lmi_zip)['Zip']]\n",
    "travel_time_lmi=travel_time_lmi[travel_time_lmi['TRAVEL TIME TO WORK'] != 'Average time to work']\n",
    "travel_time_lmi.head()"
   ]
  },
  {
   "cell_type": "code",
   "execution_count": 40,
   "metadata": {},
   "outputs": [
    {
     "data": {
      "text/html": [
       "<div>\n",
       "<style scoped>\n",
       "    .dataframe tbody tr th:only-of-type {\n",
       "        vertical-align: middle;\n",
       "    }\n",
       "\n",
       "    .dataframe tbody tr th {\n",
       "        vertical-align: top;\n",
       "    }\n",
       "\n",
       "    .dataframe thead th {\n",
       "        text-align: right;\n",
       "    }\n",
       "</style>\n",
       "<table border=\"1\" class=\"dataframe\">\n",
       "  <thead>\n",
       "    <tr style=\"text-align: right;\">\n",
       "      <th></th>\n",
       "      <th>Zip</th>\n",
       "      <th>YEAR</th>\n",
       "      <th>TRAVEL TIME TO WORK</th>\n",
       "      <th>NUMBER</th>\n",
       "    </tr>\n",
       "  </thead>\n",
       "  <tbody>\n",
       "    <tr>\n",
       "      <th>0</th>\n",
       "      <td>91901</td>\n",
       "      <td>2010</td>\n",
       "      <td>Did not work at home</td>\n",
       "      <td>7689</td>\n",
       "    </tr>\n",
       "    <tr>\n",
       "      <th>1</th>\n",
       "      <td>91901</td>\n",
       "      <td>2010</td>\n",
       "      <td>Less than 10 minutes</td>\n",
       "      <td>1302</td>\n",
       "    </tr>\n",
       "    <tr>\n",
       "      <th>2</th>\n",
       "      <td>91901</td>\n",
       "      <td>2010</td>\n",
       "      <td>10 to 19 minutes</td>\n",
       "      <td>1117</td>\n",
       "    </tr>\n",
       "    <tr>\n",
       "      <th>3</th>\n",
       "      <td>91901</td>\n",
       "      <td>2010</td>\n",
       "      <td>20 to 29 minutes</td>\n",
       "      <td>1535</td>\n",
       "    </tr>\n",
       "    <tr>\n",
       "      <th>4</th>\n",
       "      <td>91901</td>\n",
       "      <td>2010</td>\n",
       "      <td>30 to 44 minutes</td>\n",
       "      <td>1985</td>\n",
       "    </tr>\n",
       "  </tbody>\n",
       "</table>\n",
       "</div>"
      ],
      "text/plain": [
       "     Zip  YEAR   TRAVEL TIME TO WORK NUMBER\n",
       "0  91901  2010  Did not work at home   7689\n",
       "1  91901  2010  Less than 10 minutes   1302\n",
       "2  91901  2010      10 to 19 minutes   1117\n",
       "3  91901  2010      20 to 29 minutes   1535\n",
       "4  91901  2010      30 to 44 minutes   1985"
      ]
     },
     "execution_count": 40,
     "metadata": {},
     "output_type": "execute_result"
    }
   ],
   "source": [
    "travel_time_hi=travel_time.loc[travel_time[['Zip']].isin(hi_zip)['Zip']]\n",
    "travel_time_hi=travel_time_hi[travel_time_hi['TRAVEL TIME TO WORK'] != 'Average time to work']\n",
    "travel_time_hi.head()"
   ]
  },
  {
   "cell_type": "markdown",
   "metadata": {},
   "source": [
    "Apply `groupby` to `TRAVEL TIME TO WORK`"
   ]
  },
  {
   "cell_type": "code",
   "execution_count": 41,
   "metadata": {},
   "outputs": [
    {
     "data": {
      "text/html": [
       "<div>\n",
       "<style scoped>\n",
       "    .dataframe tbody tr th:only-of-type {\n",
       "        vertical-align: middle;\n",
       "    }\n",
       "\n",
       "    .dataframe tbody tr th {\n",
       "        vertical-align: top;\n",
       "    }\n",
       "\n",
       "    .dataframe thead th {\n",
       "        text-align: right;\n",
       "    }\n",
       "</style>\n",
       "<table border=\"1\" class=\"dataframe\">\n",
       "  <thead>\n",
       "    <tr style=\"text-align: right;\">\n",
       "      <th></th>\n",
       "      <th>TRAVEL TIME TO WORK</th>\n",
       "      <th>NUMBER</th>\n",
       "    </tr>\n",
       "  </thead>\n",
       "  <tbody>\n",
       "    <tr>\n",
       "      <th>0</th>\n",
       "      <td>10 to 19 minutes</td>\n",
       "      <td>0.157359</td>\n",
       "    </tr>\n",
       "    <tr>\n",
       "      <th>1</th>\n",
       "      <td>20 to 29 minutes</td>\n",
       "      <td>0.114878</td>\n",
       "    </tr>\n",
       "    <tr>\n",
       "      <th>2</th>\n",
       "      <td>30 to 44 minutes</td>\n",
       "      <td>0.096512</td>\n",
       "    </tr>\n",
       "    <tr>\n",
       "      <th>3</th>\n",
       "      <td>45 to 59 minutes</td>\n",
       "      <td>0.023574</td>\n",
       "    </tr>\n",
       "    <tr>\n",
       "      <th>4</th>\n",
       "      <td>60 to 89 minutes</td>\n",
       "      <td>0.018752</td>\n",
       "    </tr>\n",
       "    <tr>\n",
       "      <th>5</th>\n",
       "      <td>90 minutes or more</td>\n",
       "      <td>0.011008</td>\n",
       "    </tr>\n",
       "    <tr>\n",
       "      <th>6</th>\n",
       "      <td>Did not work at home</td>\n",
       "      <td>0.487058</td>\n",
       "    </tr>\n",
       "    <tr>\n",
       "      <th>7</th>\n",
       "      <td>Less than 10 minutes</td>\n",
       "      <td>0.064975</td>\n",
       "    </tr>\n",
       "    <tr>\n",
       "      <th>8</th>\n",
       "      <td>Worked at home</td>\n",
       "      <td>0.025883</td>\n",
       "    </tr>\n",
       "  </tbody>\n",
       "</table>\n",
       "</div>"
      ],
      "text/plain": [
       "    TRAVEL TIME TO WORK    NUMBER\n",
       "0      10 to 19 minutes  0.157359\n",
       "1      20 to 29 minutes  0.114878\n",
       "2      30 to 44 minutes  0.096512\n",
       "3      45 to 59 minutes  0.023574\n",
       "4      60 to 89 minutes  0.018752\n",
       "5    90 minutes or more  0.011008\n",
       "6  Did not work at home  0.487058\n",
       "7  Less than 10 minutes  0.064975\n",
       "8        Worked at home  0.025883"
      ]
     },
     "execution_count": 41,
     "metadata": {},
     "output_type": "execute_result"
    }
   ],
   "source": [
    "grouped_lmi_travel=travel_time_lmi.groupby('TRAVEL TIME TO WORK')['NUMBER'].agg('sum').to_frame().apply(lambda x: x/x.sum())['NUMBER']\n",
    "grouped_lmi_travel.to_frame().reset_index()"
   ]
  },
  {
   "cell_type": "code",
   "execution_count": 42,
   "metadata": {},
   "outputs": [
    {
     "data": {
      "text/html": [
       "<div>\n",
       "<style scoped>\n",
       "    .dataframe tbody tr th:only-of-type {\n",
       "        vertical-align: middle;\n",
       "    }\n",
       "\n",
       "    .dataframe tbody tr th {\n",
       "        vertical-align: top;\n",
       "    }\n",
       "\n",
       "    .dataframe thead th {\n",
       "        text-align: right;\n",
       "    }\n",
       "</style>\n",
       "<table border=\"1\" class=\"dataframe\">\n",
       "  <thead>\n",
       "    <tr style=\"text-align: right;\">\n",
       "      <th></th>\n",
       "      <th>TRAVEL TIME TO WORK</th>\n",
       "      <th>NUMBER</th>\n",
       "    </tr>\n",
       "  </thead>\n",
       "  <tbody>\n",
       "    <tr>\n",
       "      <th>0</th>\n",
       "      <td>10 to 19 minutes</td>\n",
       "      <td>0.147014</td>\n",
       "    </tr>\n",
       "    <tr>\n",
       "      <th>1</th>\n",
       "      <td>20 to 29 minutes</td>\n",
       "      <td>0.120351</td>\n",
       "    </tr>\n",
       "    <tr>\n",
       "      <th>2</th>\n",
       "      <td>30 to 44 minutes</td>\n",
       "      <td>0.104697</td>\n",
       "    </tr>\n",
       "    <tr>\n",
       "      <th>3</th>\n",
       "      <td>45 to 59 minutes</td>\n",
       "      <td>0.032577</td>\n",
       "    </tr>\n",
       "    <tr>\n",
       "      <th>4</th>\n",
       "      <td>60 to 89 minutes</td>\n",
       "      <td>0.021001</td>\n",
       "    </tr>\n",
       "    <tr>\n",
       "      <th>5</th>\n",
       "      <td>90 minutes or more</td>\n",
       "      <td>0.009725</td>\n",
       "    </tr>\n",
       "    <tr>\n",
       "      <th>6</th>\n",
       "      <td>Did not work at home</td>\n",
       "      <td>0.484205</td>\n",
       "    </tr>\n",
       "    <tr>\n",
       "      <th>7</th>\n",
       "      <td>Less than 10 minutes</td>\n",
       "      <td>0.048840</td>\n",
       "    </tr>\n",
       "    <tr>\n",
       "      <th>8</th>\n",
       "      <td>Worked at home</td>\n",
       "      <td>0.031590</td>\n",
       "    </tr>\n",
       "  </tbody>\n",
       "</table>\n",
       "</div>"
      ],
      "text/plain": [
       "    TRAVEL TIME TO WORK    NUMBER\n",
       "0      10 to 19 minutes  0.147014\n",
       "1      20 to 29 minutes  0.120351\n",
       "2      30 to 44 minutes  0.104697\n",
       "3      45 to 59 minutes  0.032577\n",
       "4      60 to 89 minutes  0.021001\n",
       "5    90 minutes or more  0.009725\n",
       "6  Did not work at home  0.484205\n",
       "7  Less than 10 minutes  0.048840\n",
       "8        Worked at home  0.031590"
      ]
     },
     "execution_count": 42,
     "metadata": {},
     "output_type": "execute_result"
    }
   ],
   "source": [
    "grouped_hi_travel=travel_time_hi.groupby('TRAVEL TIME TO WORK')['NUMBER'].agg('sum').to_frame().apply(lambda x: x/x.sum())['NUMBER']\n",
    "grouped_hi_travel.to_frame().reset_index()"
   ]
  },
  {
   "cell_type": "code",
   "execution_count": 43,
   "metadata": {},
   "outputs": [
    {
     "data": {
      "image/png": "[encoded data removed]",
      "text/plain": [
       "<Figure size 432x288 with 1 Axes>"
      ]
     },
     "metadata": {
      "needs_background": "light"
     },
     "output_type": "display_data"
    }
   ],
   "source": [
    "ax = sns.barplot(x=\"TRAVEL TIME TO WORK\", y='NUMBER', data=grouped_lmi_travel.to_frame().reset_index());\n",
    "ax.set_xticklabels(ax.get_xticklabels(), rotation=40, ha=\"right\")\n",
    "ax.set_title('LMI Travel Time to Work')\n",
    "plt.tight_layout()\n",
    "plt.show()"
   ]
  },
  {
   "cell_type": "code",
   "execution_count": 44,
   "metadata": {},
   "outputs": [
    {
     "data": {
      "image/png": "[encoded data removed]",
      "text/plain": [
       "<Figure size 432x288 with 1 Axes>"
      ]
     },
     "metadata": {
      "needs_background": "light"
     },
     "output_type": "display_data"
    }
   ],
   "source": [
    "ax = sns.barplot(x=\"TRAVEL TIME TO WORK\", y='NUMBER', data=grouped_hi_travel.to_frame().reset_index());\n",
    "ax.set_xticklabels(ax.get_xticklabels(), rotation=40, ha=\"right\")\n",
    "ax.set_title('HI Travel Time to Work')\n",
    "\n",
    "plt.tight_layout()\n",
    "plt.show()"
   ]
  },
  {
   "cell_type": "markdown",
   "metadata": {},
   "source": [
    "### Conclusion:\n",
    "* The distributions between LMI and HI travel time to work visually look identical.\n",
    "* It would be too hard to generalize solution for all LMI communities, we may have to look at them individually.\n",
    "* We may have to look at other metrics and find one where there is a significant difference in the distributions between LMI and HI communities."
   ]
  },
  {
   "cell_type": "code",
   "execution_count": null,
   "metadata": {},
   "outputs": [],
   "source": []
  },
  {
   "cell_type": "code",
   "execution_count": null,
   "metadata": {},
   "outputs": [],
   "source": []
  }
 ],
 "metadata": {
  "kernelspec": {
   "display_name": "Python 3",
   "language": "python",
   "name": "python3"
  },
  "language_info": {
   "codemirror_mode": {
    "name": "ipython",
    "version": 3
   },
   "file_extension": ".py",
   "mimetype": "text/x-python",
   "name": "python",
   "nbconvert_exporter": "python",
   "pygments_lexer": "ipython3",
   "version": "3.7.3"
  }
 },
 "nbformat": 4,
 "nbformat_minor": 4
}
